{
  "nbformat": 4,
  "nbformat_minor": 0,
  "metadata": {
    "colab": {
      "provenance": [],
      "machine_shape": "hm",
      "gpuClass": "premium",
      "authorship_tag": "ABX9TyPB8VCOHz9qe3uAKWJqYh5d",
      "include_colab_link": true
    },
    "kernelspec": {
      "name": "python3",
      "display_name": "Python 3"
    },
    "language_info": {
      "name": "python"
    },
    "accelerator": "GPU",
    "gpuClass": "premium"
  },
  "cells": [
    {
      "cell_type": "markdown",
      "metadata": {
        "id": "view-in-github",
        "colab_type": "text"
      },
      "source": [
        "<a href=\"https://colab.research.google.com/github/ParitoshP702/Bilevel-Optimization/blob/main/CIFAR_testing.ipynb\" target=\"_parent\"><img src=\"https://colab.research.google.com/assets/colab-badge.svg\" alt=\"Open In Colab\"/></a>"
      ]
    },
    {
      "cell_type": "code",
      "execution_count": null,
      "metadata": {
        "id": "MfxgP1zRxGGk",
        "colab": {
          "base_uri": "https://localhost:8080/"
        },
        "outputId": "44bc9359-bcc5-4444-bf4f-425ffb503da1"
      },
      "outputs": [
        {
          "output_type": "stream",
          "name": "stdout",
          "text": [
            "Sun Jan  8 15:29:27 2023       \n",
            "+-----------------------------------------------------------------------------+\n",
            "| NVIDIA-SMI 460.32.03    Driver Version: 460.32.03    CUDA Version: 11.2     |\n",
            "|-------------------------------+----------------------+----------------------+\n",
            "| GPU  Name        Persistence-M| Bus-Id        Disp.A | Volatile Uncorr. ECC |\n",
            "| Fan  Temp  Perf  Pwr:Usage/Cap|         Memory-Usage | GPU-Util  Compute M. |\n",
            "|                               |                      |               MIG M. |\n",
            "|===============================+======================+======================|\n",
            "|   0  A100-SXM4-40GB      Off  | 00000000:00:04.0 Off |                    0 |\n",
            "| N/A   29C    P0    53W / 400W |      0MiB / 40536MiB |      0%      Default |\n",
            "|                               |                      |             Disabled |\n",
            "+-------------------------------+----------------------+----------------------+\n",
            "                                                                               \n",
            "+-----------------------------------------------------------------------------+\n",
            "| Processes:                                                                  |\n",
            "|  GPU   GI   CI        PID   Type   Process name                  GPU Memory |\n",
            "|        ID   ID                                                   Usage      |\n",
            "|=============================================================================|\n",
            "|  No running processes found                                                 |\n",
            "+-----------------------------------------------------------------------------+\n"
          ]
        }
      ],
      "source": [
        "!nvidia-smi"
      ]
    },
    {
      "cell_type": "code",
      "source": [
        "import tensorflow as tf\n",
        "from tensorflow import keras\n",
        "from tensorflow.keras import Sequential\n",
        "from tensorflow.keras.layers import Dense\n",
        "import numpy as np\n",
        "import pandas as pd\n",
        "from tqdm import tqdm"
      ],
      "metadata": {
        "id": "fOfIK2KoEH1m"
      },
      "execution_count": null,
      "outputs": []
    },
    {
      "cell_type": "code",
      "source": [
        "(X_train,Y_train),(X_test,Y_test) = tf.keras.datasets.cifar10.load_data()"
      ],
      "metadata": {
        "id": "VNdWjU5ixXJs",
        "colab": {
          "base_uri": "https://localhost:8080/"
        },
        "outputId": "b3d65559-db5e-4feb-e62a-264bff3fd13a"
      },
      "execution_count": null,
      "outputs": [
        {
          "output_type": "stream",
          "name": "stdout",
          "text": [
            "Downloading data from https://www.cs.toronto.edu/~kriz/cifar-10-python.tar.gz\n",
            "170498071/170498071 [==============================] - 2s 0us/step\n"
          ]
        }
      ]
    },
    {
      "cell_type": "code",
      "source": [
        "# pip install numba"
      ],
      "metadata": {
        "id": "Ccq7dJkODWS6"
      },
      "execution_count": null,
      "outputs": []
    },
    {
      "cell_type": "code",
      "source": [],
      "metadata": {
        "id": "jKzk3qKqD7PR"
      },
      "execution_count": null,
      "outputs": []
    },
    {
      "cell_type": "code",
      "source": [
        "# from numba import cuda\n",
        "# device = cuda.get_current_device()\n",
        "# device.reset()"
      ],
      "metadata": {
        "id": "JwVq5kf7DZoV"
      },
      "execution_count": null,
      "outputs": []
    },
    {
      "cell_type": "code",
      "source": [
        "train_count = 2000\n",
        "eval_count = 1000\n",
        "test_count = 1000"
      ],
      "metadata": {
        "id": "v5rYLQJKxkg1"
      },
      "execution_count": null,
      "outputs": []
    },
    {
      "cell_type": "code",
      "source": [
        "X_train = X_train/255.0\n",
        "X_test  = X_test/255.0"
      ],
      "metadata": {
        "id": "5Ni3K8j9x48P"
      },
      "execution_count": null,
      "outputs": []
    },
    {
      "cell_type": "code",
      "source": [
        "# x_train[0]"
      ],
      "metadata": {
        "id": "CtSVjA1FzohG"
      },
      "execution_count": null,
      "outputs": []
    },
    {
      "cell_type": "code",
      "source": [
        "x_train = X_train[:train_count,:,:,:]\n",
        "x_eval = X_train[train_count:train_count+eval_count,:,:,:]\n",
        "y_train = Y_train[:train_count]\n",
        "y_eval = Y_train[train_count:train_count+eval_count]"
      ],
      "metadata": {
        "id": "vgIi3nEhybeq"
      },
      "execution_count": null,
      "outputs": []
    },
    {
      "cell_type": "code",
      "source": [
        "x_test = X_test[:test_count,:,:,:]\n",
        "y_test = Y_test[:test_count]"
      ],
      "metadata": {
        "id": "zk--ZPARykoL"
      },
      "execution_count": null,
      "outputs": []
    },
    {
      "cell_type": "code",
      "source": [
        "#Flattening our datasets\n",
        "x_train = x_train.reshape(x_train.shape[0],-1)\n",
        "x_eval = x_eval.reshape(x_eval.shape[0],-1)\n",
        "x_test = x_test.reshape(x_test.shape[0],-1)"
      ],
      "metadata": {
        "id": "VShSJ3upzb8b"
      },
      "execution_count": null,
      "outputs": []
    },
    {
      "cell_type": "code",
      "source": [
        "y_training = np.zeros(shape = (len(y_train),10), dtype = float)#one hot encoding the training labels\n",
        "for i in range(len(y_train)):\n",
        "  for j in range(10):\n",
        "    if j  == y_train[i]:\n",
        "      y_training[i][j] = 1.0\n",
        "    else:\n",
        "      y_training[i][j] = 0.0"
      ],
      "metadata": {
        "id": "U5fTYtxi1vw-"
      },
      "execution_count": null,
      "outputs": []
    },
    {
      "cell_type": "code",
      "source": [
        "y_val_array = np.zeros(shape = (len(y_eval),10),dtype  =float)#one hot encoding the validation labels\n",
        "for i in range(len(y_eval)):\n",
        "  for j in range(10):\n",
        "    if j  == y_eval[i]:\n",
        "      y_val_array[i][j] = 1.0\n",
        "    else:\n",
        "      y_val_array[i][j] = 0.0"
      ],
      "metadata": {
        "id": "11cX1Y_j3JZM"
      },
      "execution_count": null,
      "outputs": []
    },
    {
      "cell_type": "code",
      "source": [
        "y_val_array"
      ],
      "metadata": {
        "colab": {
          "base_uri": "https://localhost:8080/"
        },
        "id": "VF5r98hU3rXb",
        "outputId": "5d165589-e89e-4da3-fb3f-ceed2d464f6c"
      },
      "execution_count": null,
      "outputs": [
        {
          "output_type": "execute_result",
          "data": {
            "text/plain": [
              "array([[0., 0., 0., ..., 1., 0., 0.],\n",
              "       [0., 0., 0., ..., 0., 0., 1.],\n",
              "       [0., 0., 0., ..., 0., 0., 1.],\n",
              "       ...,\n",
              "       [0., 0., 0., ..., 0., 0., 0.],\n",
              "       [0., 0., 0., ..., 0., 0., 0.],\n",
              "       [0., 0., 0., ..., 0., 0., 0.]])"
            ]
          },
          "metadata": {},
          "execution_count": 14
        }
      ]
    },
    {
      "cell_type": "code",
      "source": [
        "# y_eval"
      ],
      "metadata": {
        "id": "HUAh_ZIA3pOW"
      },
      "execution_count": null,
      "outputs": []
    },
    {
      "cell_type": "code",
      "source": [
        "loss_object = tf.keras.losses.CategoricalCrossentropy()"
      ],
      "metadata": {
        "id": "IXOvgvah2MHx"
      },
      "execution_count": null,
      "outputs": []
    },
    {
      "cell_type": "code",
      "source": [
        "x_train.shape"
      ],
      "metadata": {
        "colab": {
          "base_uri": "https://localhost:8080/"
        },
        "id": "zuBVWWBL0rrM",
        "outputId": "a0c471fe-6f0b-4914-d2d8-e1fe53472abb"
      },
      "execution_count": null,
      "outputs": [
        {
          "output_type": "execute_result",
          "data": {
            "text/plain": [
              "(2000, 3072)"
            ]
          },
          "metadata": {},
          "execution_count": 17
        }
      ]
    },
    {
      "cell_type": "code",
      "source": [
        "number_of_layers = 5\n",
        "neurons_per_layer = 50\n",
        "optimizer = \"Adam\"\n",
        "activation_function = \"sigmoid\""
      ],
      "metadata": {
        "id": "B81fN5nf0tNE"
      },
      "execution_count": null,
      "outputs": []
    },
    {
      "cell_type": "code",
      "source": [
        "y_training"
      ],
      "metadata": {
        "colab": {
          "base_uri": "https://localhost:8080/"
        },
        "id": "i5lK7j6HuIRv",
        "outputId": "9189d297-774c-4262-a825-89a028a03d58"
      },
      "execution_count": null,
      "outputs": [
        {
          "output_type": "execute_result",
          "data": {
            "text/plain": [
              "array([[0., 0., 0., ..., 0., 0., 0.],\n",
              "       [0., 0., 0., ..., 0., 0., 1.],\n",
              "       [0., 0., 0., ..., 0., 0., 1.],\n",
              "       ...,\n",
              "       [0., 0., 0., ..., 1., 0., 0.],\n",
              "       [0., 0., 0., ..., 0., 0., 0.],\n",
              "       [1., 0., 0., ..., 0., 0., 0.]])"
            ]
          },
          "metadata": {},
          "execution_count": 19
        }
      ]
    },
    {
      "cell_type": "code",
      "source": [
        "model = Sequential()\n",
        "model.add(Dense(units = 2,input_dim = x_train.shape[1]))\n",
        "for _ in range(number_of_layers):\n",
        "  model.add(Dense(units = neurons_per_layer,activation = activation_function, kernel_regularizer = tf.keras.regularizers.L2(1e-10)))\n",
        "model.add(Dense(units = 10, activation = \"softmax\",kernel_regularizer = tf.keras.regularizers.L2(1e-10)))\n",
        "model.compile(loss = tf.keras.losses.CategoricalCrossentropy(),optimizer = optimizer)\n",
        "model.fit(x_train,y_training,epochs = 10,batch_size = 64)"
      ],
      "metadata": {
        "colab": {
          "base_uri": "https://localhost:8080/"
        },
        "id": "ergzDvvQ1Ejg",
        "outputId": "87939607-3930-47d9-cd03-283cbb279950"
      },
      "execution_count": null,
      "outputs": [
        {
          "output_type": "stream",
          "name": "stdout",
          "text": [
            "Epoch 1/10\n",
            "32/32 [==============================] - 4s 3ms/step - loss: 2.3358\n",
            "Epoch 2/10\n",
            "32/32 [==============================] - 0s 3ms/step - loss: 2.3050\n",
            "Epoch 3/10\n",
            "32/32 [==============================] - 0s 3ms/step - loss: 2.2919\n",
            "Epoch 4/10\n",
            "32/32 [==============================] - 0s 3ms/step - loss: 2.2482\n",
            "Epoch 5/10\n",
            "32/32 [==============================] - 0s 3ms/step - loss: 2.1795\n",
            "Epoch 6/10\n",
            "32/32 [==============================] - 0s 3ms/step - loss: 2.1269\n",
            "Epoch 7/10\n",
            "32/32 [==============================] - 0s 3ms/step - loss: 2.0939\n",
            "Epoch 8/10\n",
            "32/32 [==============================] - 0s 3ms/step - loss: 2.0740\n",
            "Epoch 9/10\n",
            "32/32 [==============================] - 0s 3ms/step - loss: 2.0540\n",
            "Epoch 10/10\n",
            "32/32 [==============================] - 0s 3ms/step - loss: 2.0381\n"
          ]
        },
        {
          "output_type": "execute_result",
          "data": {
            "text/plain": [
              "<keras.callbacks.History at 0x7f74900ab040>"
            ]
          },
          "metadata": {},
          "execution_count": 20
        }
      ]
    },
    {
      "cell_type": "code",
      "source": [
        "y_pred = model(x_eval,training = False)"
      ],
      "metadata": {
        "id": "k4Z1gP8g2neK"
      },
      "execution_count": null,
      "outputs": []
    },
    {
      "cell_type": "code",
      "source": [
        "loss_object(y_pred,y_val_array)"
      ],
      "metadata": {
        "colab": {
          "base_uri": "https://localhost:8080/"
        },
        "id": "4husTdgO3-2K",
        "outputId": "6b2db4d2-b9a3-4a39-8028-e23d8327e52b"
      },
      "execution_count": null,
      "outputs": [
        {
          "output_type": "execute_result",
          "data": {
            "text/plain": [
              "<tf.Tensor: shape=(), dtype=float64, numpy=13.776153750404498>"
            ]
          },
          "metadata": {},
          "execution_count": 22
        }
      ]
    },
    {
      "cell_type": "code",
      "source": [
        "final_hessian_list = []"
      ],
      "metadata": {
        "id": "-eYPO5zu4S_q"
      },
      "execution_count": null,
      "outputs": []
    },
    {
      "cell_type": "code",
      "source": [
        "# g"
      ],
      "metadata": {
        "id": "62-13SVtuZwi"
      },
      "execution_count": null,
      "outputs": []
    },
    {
      "cell_type": "code",
      "source": [
        "with tf.GradientTape(persistent = True) as tape1:\n",
        "  with tf.GradientTape(persistent = True) as tape2:\n",
        "    loss_object = tf.keras.losses.CategoricalCrossentropy()\n",
        "    y_pred_array = model(x_train,training = True)\n",
        "    loss = loss_object(y_training,y_pred_array)\n",
        "  g = tape2.gradient(loss, model.trainable_variables)\n",
        "for i in range(len(g)):\n",
        "  # reshaped_grad = tf.reshape(g[i], [-1])\n",
        "  h = tape1.jacobian(g[i],model.trainable_variables)\n",
        "  final_hessian_list.append(h)"
      ],
      "metadata": {
        "colab": {
          "base_uri": "https://localhost:8080/"
        },
        "id": "Vw3iGOTR4k5y",
        "outputId": "7ea059e4-4b49-4a9b-a3d3-7e8007e61893"
      },
      "execution_count": null,
      "outputs": [
        {
          "output_type": "stream",
          "name": "stderr",
          "text": [
            "WARNING:tensorflow:5 out of the last 5 calls to <function pfor.<locals>.f at 0x7f743054bee0> triggered tf.function retracing. Tracing is expensive and the excessive number of tracings could be due to (1) creating @tf.function repeatedly in a loop, (2) passing tensors with different shapes, (3) passing Python objects instead of tensors. For (1), please define your @tf.function outside of the loop. For (2), @tf.function has reduce_retracing=True option that can avoid unnecessary retracing. For (3), please refer to https://www.tensorflow.org/guide/function#controlling_retracing and https://www.tensorflow.org/api_docs/python/tf/function for  more details.\n",
            "WARNING:tensorflow:6 out of the last 6 calls to <function pfor.<locals>.f at 0x7f749adc5670> triggered tf.function retracing. Tracing is expensive and the excessive number of tracings could be due to (1) creating @tf.function repeatedly in a loop, (2) passing tensors with different shapes, (3) passing Python objects instead of tensors. For (1), please define your @tf.function outside of the loop. For (2), @tf.function has reduce_retracing=True option that can avoid unnecessary retracing. For (3), please refer to https://www.tensorflow.org/guide/function#controlling_retracing and https://www.tensorflow.org/api_docs/python/tf/function for  more details.\n"
          ]
        }
      ]
    },
    {
      "cell_type": "code",
      "source": [
        "total_weights = 0\n",
        "for i in range(len(model.weights)):\n",
        "  if i%2 == 0:\n",
        "    total_weights += model.weights[i].shape[0]*model.weights[i].shape[1]\n",
        "  else:\n",
        "    total_weights += model.weights[i].shape[0]"
      ],
      "metadata": {
        "id": "2VYpOi9t4qty"
      },
      "execution_count": null,
      "outputs": []
    },
    {
      "cell_type": "code",
      "source": [
        "total_weights"
      ],
      "metadata": {
        "id": "B1TiJVOk5UVM",
        "colab": {
          "base_uri": "https://localhost:8080/"
        },
        "outputId": "6eaa6fce-67f4-42a7-fdcb-f99e387c121d"
      },
      "execution_count": null,
      "outputs": [
        {
          "output_type": "execute_result",
          "data": {
            "text/plain": [
              "11906"
            ]
          },
          "metadata": {},
          "execution_count": 27
        }
      ]
    },
    {
      "cell_type": "code",
      "source": [
        "#"
      ],
      "metadata": {
        "id": "7xN1Ghlx5w1s"
      },
      "execution_count": null,
      "outputs": []
    },
    {
      "cell_type": "code",
      "source": [
        "def compute_gradient(x_target,y_target,model):##general function which returns the list of gradient vector as an numpy array\n",
        "  with tf.GradientTape() as tape:\n",
        "    loss_object = tf.keras.losses.MeanSquaredError()\n",
        "    y_pred_array = model(x_target,training = True)\n",
        "    loss = loss_object(y_target,y_pred_array)\n",
        "  g = tape.gradient(loss,model.trainable_variables)\n",
        "  final_grad_list = []\n",
        "  for i in range(len(g)):\n",
        "    grad_array = tf.make_ndarray(tf.make_tensor_proto(g[i]))\n",
        "    if i%2==0:\n",
        "      grad_shape = grad_array.shape\n",
        "      for j in range(grad_shape[0]):\n",
        "        for k in range(grad_shape[1]):\n",
        "          final_grad_list.append(grad_array[j][k])\n",
        "    else:\n",
        "      length = grad_array.shape[0]\n",
        "      for j in range(length):\n",
        "        final_grad_list.append(grad_array[j])\n",
        "  return np.array(final_grad_list)\n"
      ],
      "metadata": {
        "id": "xY8w5s5z6O3O"
      },
      "execution_count": null,
      "outputs": []
    },
    {
      "cell_type": "code",
      "source": [
        "grad_validation =  compute_gradient(x_eval,y_val_array,model)"
      ],
      "metadata": {
        "id": "wrRMB4ro6oFt"
      },
      "execution_count": null,
      "outputs": []
    },
    {
      "cell_type": "code",
      "source": [
        "#reshaping the double dimensional list of tensors into a matrix\n",
        "hessian_matrix = np.empty(shape = (1,1),dtype = float)\n",
        "for i in range(len(final_hessian_list)):\n",
        "  hess_col_mat = np.empty(shape = (1,1),dtype = float)\n",
        "  for j in range(len(final_hessian_list[i])):\n",
        "    hess_array = tf.make_ndarray(tf.make_tensor_proto(final_hessian_list[i][j]))\n",
        "    hess_shape = hess_array.shape\n",
        "    if i%2 == 0:\n",
        "       if j%2 == 0:\n",
        "         hess_array = hess_array.reshape(hess_shape[0]*hess_shape[1],hess_shape[2]*hess_shape[3])\n",
        "       else:\n",
        "         hess_array = hess_array.reshape(hess_shape[0]*hess_shape[1],hess_shape[2])\n",
        "    else:\n",
        "      if j%2 == 0:\n",
        "        hess_array = hess_array.reshape(hess_shape[0],hess_shape[1]*hess_shape[2])\n",
        "      else:\n",
        "        hess_array = hess_array\n",
        "    if j==0 :\n",
        "      hess_col_mat = hess_array\n",
        "    else:\n",
        "      hess_col_mat = np.concatenate((hess_col_mat,hess_array),axis = 1)\n",
        "  if i==0:\n",
        "    hessian_matrix = hess_col_mat\n",
        "  else:\n",
        "    hessian_matrix= np.concatenate((hessian_matrix,hess_col_mat),axis = 0)\n",
        "\n",
        ""
      ],
      "metadata": {
        "id": "KkR0fAu96A9K"
      },
      "execution_count": null,
      "outputs": []
    },
    {
      "cell_type": "code",
      "source": [
        "hessian_matrix.shape"
      ],
      "metadata": {
        "id": "Mi6B457k6RcA",
        "colab": {
          "base_uri": "https://localhost:8080/"
        },
        "outputId": "286ef1c7-9ecd-49bd-8760-e719bd986c21"
      },
      "execution_count": null,
      "outputs": [
        {
          "output_type": "execute_result",
          "data": {
            "text/plain": [
              "(11906, 11906)"
            ]
          },
          "metadata": {},
          "execution_count": 32
        }
      ]
    },
    {
      "cell_type": "code",
      "source": [
        "grad_validation"
      ],
      "metadata": {
        "id": "pQ2uAXB66XKX",
        "colab": {
          "base_uri": "https://localhost:8080/"
        },
        "outputId": "2ac38cee-444f-4228-c361-b13f1b18df2a"
      },
      "execution_count": null,
      "outputs": [
        {
          "output_type": "execute_result",
          "data": {
            "text/plain": [
              "array([ 2.5951855e-05, -6.8204417e-06,  2.3988538e-05, ...,\n",
              "       -1.8154573e-05,  9.8558899e-05,  5.9389917e-05], dtype=float32)"
            ]
          },
          "metadata": {},
          "execution_count": 33
        }
      ]
    },
    {
      "cell_type": "code",
      "source": [
        "skip_length = len(model.layers[0].weights[0].numpy().reshape(-1)) + len(model.layers[0].weights[1].numpy().reshape(-1))"
      ],
      "metadata": {
        "id": "3uTNzkzX7u4X"
      },
      "execution_count": null,
      "outputs": []
    },
    {
      "cell_type": "code",
      "source": [
        "skip_length"
      ],
      "metadata": {
        "id": "4nCxm2gk7wGu",
        "colab": {
          "base_uri": "https://localhost:8080/"
        },
        "outputId": "1e84fb4d-8fed-4681-db49-e7bc22d0ea12"
      },
      "execution_count": null,
      "outputs": [
        {
          "output_type": "execute_result",
          "data": {
            "text/plain": [
              "6146"
            ]
          },
          "metadata": {},
          "execution_count": 35
        }
      ]
    },
    {
      "cell_type": "code",
      "source": [
        "weights_list = []\n",
        "weights_list_new = []"
      ],
      "metadata": {
        "id": "ocHPmzjZ7O3M"
      },
      "execution_count": null,
      "outputs": []
    },
    {
      "cell_type": "code",
      "source": [
        "for i in range(len(model.weights)):\n",
        "  weights_array = tf.make_ndarray(tf.make_tensor_proto(model.weights[i]))\n",
        "  if i%2 == 0:\n",
        "    shape_array = weights_array.shape\n",
        "    for j in range(shape_array[0]):\n",
        "      for k in range(shape_array[1]):\n",
        "        weights_list.append(weights_array[j][k])\n",
        "        if len(weights_list_new) < skip_length:\n",
        "          weights_list_new.append(0)\n",
        "        else:\n",
        "          weights_list_new.append(weights_array[j][k])\n",
        "  else:\n",
        "    lgt = weights_array.shape[0]\n",
        "    for j in range(lgt):\n",
        "      weights_list.append(weights_array[j])\n",
        "      if len(weights_list_new) < skip_length:\n",
        "        weights_list_new.append(0)\n",
        "      else:\n",
        "        weights_list_new.append(weights_array[j])"
      ],
      "metadata": {
        "id": "cvzQEbb-7lJg"
      },
      "execution_count": null,
      "outputs": []
    },
    {
      "cell_type": "code",
      "source": [
        "final_weights_array = np.array(weights_list)\n",
        "final_weights_array_new = np.array(weights_list_new)"
      ],
      "metadata": {
        "id": "gYJrt2kY7n9U"
      },
      "execution_count": null,
      "outputs": []
    },
    {
      "cell_type": "code",
      "source": [
        "l = len(final_weights_array)"
      ],
      "metadata": {
        "id": "iUCHjzK2898w"
      },
      "execution_count": null,
      "outputs": []
    },
    {
      "cell_type": "code",
      "source": [
        "weight_array_vec = final_weights_array_new.reshape(l,1)/len(y_train)"
      ],
      "metadata": {
        "id": "Qyc94kLF77_y"
      },
      "execution_count": null,
      "outputs": []
    },
    {
      "cell_type": "code",
      "source": [
        "hessian_col_mat = np.concatenate((weight_array_vec,hessian_matrix),axis = 1)"
      ],
      "metadata": {
        "id": "8a7tpshh85UG"
      },
      "execution_count": null,
      "outputs": []
    },
    {
      "cell_type": "code",
      "source": [
        "weight_array_withreg = np.concatenate(([[0]],final_weights_array_new.reshape(1,l)),axis = 1)/len(y_train)"
      ],
      "metadata": {
        "id": "BxGfSEQC9EUN"
      },
      "execution_count": null,
      "outputs": []
    },
    {
      "cell_type": "code",
      "source": [
        "hessian_mat_with_reg = np.concatenate((weight_array_withreg,hessian_col_mat),axis = 0)"
      ],
      "metadata": {
        "id": "ctnyKdZ79GNQ"
      },
      "execution_count": null,
      "outputs": []
    },
    {
      "cell_type": "code",
      "source": [
        "hessian_mat_with_reg"
      ],
      "metadata": {
        "id": "n-f_UrIT9IUt",
        "colab": {
          "base_uri": "https://localhost:8080/"
        },
        "outputId": "11c67e85-01a5-4be1-f072-1a47e767fc4a"
      },
      "execution_count": null,
      "outputs": [
        {
          "output_type": "execute_result",
          "data": {
            "text/plain": [
              "array([[ 0.00000000e+00,  0.00000000e+00,  0.00000000e+00, ...,\n",
              "         4.65580402e-06,  7.91620743e-06, -7.85000250e-06],\n",
              "       [ 0.00000000e+00,  3.42549733e-03, -1.70161983e-03, ...,\n",
              "         1.14310347e-03, -5.09141991e-03, -4.02774755e-03],\n",
              "       [ 0.00000000e+00, -1.70161983e-03,  1.26674864e-03, ...,\n",
              "        -8.70586664e-04,  2.76647857e-03,  3.02729453e-03],\n",
              "       ...,\n",
              "       [ 4.65580402e-06,  1.14308833e-03, -8.70564720e-04, ...,\n",
              "         8.76334459e-02, -7.25208316e-03, -7.99116865e-03],\n",
              "       [ 7.91620743e-06, -5.09129511e-03,  2.76647462e-03, ...,\n",
              "        -7.25208269e-03,  8.06169659e-02, -1.95568372e-02],\n",
              "       [-7.85000250e-06, -4.02775407e-03,  3.02725215e-03, ...,\n",
              "        -7.99116865e-03, -1.95568372e-02,  8.59261528e-02]])"
            ]
          },
          "metadata": {},
          "execution_count": 44
        }
      ]
    },
    {
      "cell_type": "code",
      "source": [
        "grad_validation_new=[]"
      ],
      "metadata": {
        "id": "-H2zWpQH9L5O"
      },
      "execution_count": null,
      "outputs": []
    },
    {
      "cell_type": "code",
      "source": [
        "grad_validation_new = np.concatenate(([[0]],grad_validation.reshape(1,l)),axis = 1)"
      ],
      "metadata": {
        "id": "XBGleZ7Y930K"
      },
      "execution_count": null,
      "outputs": []
    },
    {
      "cell_type": "code",
      "source": [
        "##obtaining the new gradient array\n",
        "grad_validation_new = grad_validation_new.reshape(-1)"
      ],
      "metadata": {
        "id": "mtJyzIDC97IH"
      },
      "execution_count": null,
      "outputs": []
    },
    {
      "cell_type": "code",
      "source": [
        "ub = [10 for i in range(l+1)]"
      ],
      "metadata": {
        "id": "kehwOGE999NJ"
      },
      "execution_count": null,
      "outputs": []
    },
    {
      "cell_type": "code",
      "source": [
        "lb = []\n",
        "for i in range(l+1):\n",
        "  if i==0:\n",
        "    lb.append(1e-5)\n",
        "  else:\n",
        "    lb.append(-10)"
      ],
      "metadata": {
        "id": "eKx23VVC-ATf"
      },
      "execution_count": null,
      "outputs": []
    },
    {
      "cell_type": "code",
      "source": [
        "pip install gurobipy"
      ],
      "metadata": {
        "id": "Zqu3AlU0-PEg",
        "colab": {
          "base_uri": "https://localhost:8080/"
        },
        "outputId": "f087d9e8-a37a-4aad-8ce2-548f0b16abbd"
      },
      "execution_count": null,
      "outputs": [
        {
          "output_type": "stream",
          "name": "stdout",
          "text": [
            "Looking in indexes: https://pypi.org/simple, https://us-python.pkg.dev/colab-wheels/public/simple/\n",
            "Collecting gurobipy\n",
            "  Downloading gurobipy-10.0.0-cp38-cp38-manylinux2014_x86_64.whl (12.8 MB)\n",
            "\u001b[2K     \u001b[90m━━━━━━━━━━━━━━━━━━━━━━━━━━━━━━━━━━━━━━━━\u001b[0m \u001b[32m12.8/12.8 MB\u001b[0m \u001b[31m87.8 MB/s\u001b[0m eta \u001b[36m0:00:00\u001b[0m\n",
            "\u001b[?25hInstalling collected packages: gurobipy\n",
            "Successfully installed gurobipy-10.0.0\n"
          ]
        }
      ]
    },
    {
      "cell_type": "code",
      "source": [
        "import gurobipy as gp"
      ],
      "metadata": {
        "id": "56-jQpvS-RTQ"
      },
      "execution_count": null,
      "outputs": []
    },
    {
      "cell_type": "code",
      "source": [
        "from gurobipy import *"
      ],
      "metadata": {
        "id": "EWqyTqLm-TZ-"
      },
      "execution_count": null,
      "outputs": []
    },
    {
      "cell_type": "code",
      "source": [
        "params = {\n",
        "\"WLSACCESSID\": '753e7886-7142-449d-8baa-d41ca78716ef',\n",
        "\"WLSSECRET\": '880d2525-364b-41d0-ac23-6dcf7ad15312',\n",
        "\"LICENSEID\": 914249,\n",
        "}\n",
        "env = gp.Env(params=params)\n",
        "\n",
        "# Create the model within the Gurobi environment\n",
        "m = gp.Model(env=env)"
      ],
      "metadata": {
        "id": "iw3mfVhF-VT8",
        "colab": {
          "base_uri": "https://localhost:8080/"
        },
        "outputId": "30963c9e-d0d2-4fa8-8250-dfa41f5d2a28"
      },
      "execution_count": null,
      "outputs": [
        {
          "output_type": "stream",
          "name": "stdout",
          "text": [
            "Set parameter WLSAccessID\n",
            "Set parameter WLSSecret\n",
            "Set parameter LicenseID to value 914249\n",
            "Academic license - for non-commercial use only - registered to ppankaj21@iitk.ac.in\n"
          ]
        }
      ]
    },
    {
      "cell_type": "code",
      "source": [
        "# m = gp.Model()\n",
        "x = m.addMVar((l+1,),lb = lb, ub = ub )\n",
        "m.setObjective(grad_validation_new@x)\n",
        "# m.addConstr(hessian_mat_with_reg@x == 0)\n",
        "m.addConstr(hessian_mat_with_reg@x <= 0.1)\n",
        "m.addConstr(hessian_mat_with_reg@x >= -0.1)\n",
        "x.PStart = np.zeros(l+1)\n",
        "# GRBModel.Set(Pstart = np.zeros(l+1))\n",
        "m.optimize()"
      ],
      "metadata": {
        "id": "cea0a1j8-XYZ",
        "colab": {
          "base_uri": "https://localhost:8080/"
        },
        "outputId": "0e19f5eb-30d4-4224-9dcf-2766538725be"
      },
      "execution_count": null,
      "outputs": [
        {
          "output_type": "stream",
          "name": "stdout",
          "text": [
            "Warning on update mode = 1 after new variables or constraints added:\n",
            "Setting LP warm start basis or start ignored\n",
            "Gurobi Optimizer version 10.0.0 build v10.0.0rc2 (linux64)\n",
            "\n",
            "CPU model: Intel(R) Xeon(R) CPU @ 2.20GHz, instruction set [SSE2|AVX|AVX2|AVX512]\n",
            "Thread count: 6 physical cores, 12 logical processors, using up to 12 threads\n",
            "\n",
            "Academic license - for non-commercial use only - registered to ppankaj21@iitk.ac.in\n",
            "Optimize a model with 23814 rows, 11907 columns and 283528712 nonzeros\n",
            "Model fingerprint: 0x4be768fa\n",
            "Coefficient statistics:\n",
            "  Matrix range     [3e-13, 1e-01]\n",
            "  Objective range  [2e-09, 8e-04]\n",
            "  Bounds range     [1e-05, 1e+01]\n",
            "  RHS range        [1e-01, 1e-01]\n",
            "Presolve removed 0 rows and 0 columns (presolve time = 18s) ...\n",
            "Presolve removed 0 rows and 0 columns (presolve time = 26s) ...\n",
            "Presolve removed 0 rows and 0 columns (presolve time = 44s) ...\n",
            "Presolve removed 0 rows and 0 columns (presolve time = 98s) ...\n",
            "Presolve removed 0 rows and 0 columns (presolve time = 142s) ...\n",
            "Presolve removed 0 rows and 0 columns (presolve time = 146s) ...\n",
            "Presolve removed 0 rows and 0 columns (presolve time = 150s) ...\n",
            "Presolve removed 11907 rows and 0 columns\n",
            "Presolve time: 157.08s\n",
            "Presolved: 11907 rows, 23814 columns, 141776263 nonzeros\n",
            "\n",
            "Concurrent LP optimizer: primal simplex, dual simplex, and barrier\n",
            "Showing barrier log only...\n",
            "\n",
            "Ordering time: 0.69s\n",
            "\n",
            "Barrier statistics:\n",
            " AA' NZ     : 7.088e+07\n",
            " Factor NZ  : 7.089e+07 (roughly 600 MB of memory)\n",
            " Factor Ops : 5.628e+11 (roughly 16 seconds per iteration)\n",
            " Threads    : 4\n",
            "\n",
            "                  Objective                Residual\n",
            "Iter       Primal          Dual         Primal    Dual     Compl     Time\n",
            "   0   1.66035668e+00 -4.07696422e+01  8.50e+01 1.24e-13  9.57e-01   218s\n",
            "   1  -4.12343175e-02 -9.54145881e+00  1.25e-12 2.77e-13  1.02e-01   254s\n",
            "   2  -1.92360445e-01 -9.97452917e-01  1.44e-12 2.29e-13  8.65e-03   291s\n",
            "   3  -3.30391458e-01 -7.20595472e-01  1.79e-12 2.24e-13  4.19e-03   327s\n",
            "   4  -4.28045913e-01 -5.95320233e-01  4.82e-12 2.12e-13  1.80e-03   365s\n",
            "\n",
            "Barrier performed 4 iterations in 389.98 seconds (221.43 work units)\n",
            "Barrier solve interrupted - model solved by another algorithm\n",
            "\n",
            "\n",
            "Solved with dual simplex\n",
            "Iteration    Objective       Primal Inf.    Dual Inf.      Time\n",
            "    5316   -4.9403097e-01   0.000000e+00   0.000000e+00    413s\n",
            "\n",
            "Solved in 5316 iterations and 413.25 seconds (330.46 work units)\n",
            "Optimal objective -4.940309662e-01\n"
          ]
        }
      ]
    },
    {
      "cell_type": "code",
      "source": [
        "weight_array_with_reg = np.concatenate(([[1e-10]],final_weights_array.reshape(1,l)),axis = 1).reshape(-1)"
      ],
      "metadata": {
        "id": "BGCQNR-b-acs"
      },
      "execution_count": null,
      "outputs": []
    },
    {
      "cell_type": "code",
      "source": [
        "weight_array_with_reg"
      ],
      "metadata": {
        "id": "_Nc2ckpd-daK",
        "colab": {
          "base_uri": "https://localhost:8080/"
        },
        "outputId": "3201999f-f141-4e63-9121-3ff8cc1f0e7d"
      },
      "execution_count": null,
      "outputs": [
        {
          "output_type": "execute_result",
          "data": {
            "text/plain": [
              "array([ 1.00000000e-10,  3.48446146e-02,  5.18757887e-02, ...,\n",
              "        9.31160804e-03,  1.58324149e-02, -1.57000050e-02])"
            ]
          },
          "metadata": {},
          "execution_count": 56
        }
      ]
    },
    {
      "cell_type": "code",
      "source": [
        "descent_factors = []\n",
        "for i in range(-100,30000,200):\n",
        "  descent_factors.append(i*1e-3)\n",
        "descent_factors = np.array(descent_factors)"
      ],
      "metadata": {
        "id": "WeDRJzUm-gPS"
      },
      "execution_count": null,
      "outputs": []
    },
    {
      "cell_type": "code",
      "source": [
        "weight_sample_space_matrix = np.empty(shape = (len(descent_factors),len(weight_array_with_reg)),dtype = float)"
      ],
      "metadata": {
        "id": "xqj_Obbf-iHI"
      },
      "execution_count": null,
      "outputs": []
    },
    {
      "cell_type": "code",
      "source": [
        "x"
      ],
      "metadata": {
        "id": "cNlhPM3E-kM4",
        "colab": {
          "base_uri": "https://localhost:8080/"
        },
        "outputId": "3a922318-48ca-4a49-e4ea-de296117fb0f"
      },
      "execution_count": null,
      "outputs": [
        {
          "output_type": "execute_result",
          "data": {
            "text/plain": [
              "<MVar (11907,)>\n",
              "array([<gurobi.Var C0 (value 10.0)>, <gurobi.Var C1 (value -10.0)>,\n",
              "       <gurobi.Var C2 (value 10.0)>, ...,\n",
              "       <gurobi.Var C11904 (value -10.0)>,\n",
              "       <gurobi.Var C11905 (value 10.0)>,\n",
              "       <gurobi.Var C11906 (value -10.0)>])"
            ]
          },
          "metadata": {},
          "execution_count": 59
        }
      ]
    },
    {
      "cell_type": "code",
      "source": [
        "all_vars = m.getVars()\n",
        "values = m.getAttr(\"x\",all_vars)"
      ],
      "metadata": {
        "id": "s1s0lA5v-mSe"
      },
      "execution_count": null,
      "outputs": []
    },
    {
      "cell_type": "code",
      "source": [
        "values = np.array(values)"
      ],
      "metadata": {
        "id": "erEVIxyw-oDW"
      },
      "execution_count": null,
      "outputs": []
    },
    {
      "cell_type": "code",
      "source": [
        "values = values/np.linalg.norm(values)"
      ],
      "metadata": {
        "id": "6guMYHQL-qBo"
      },
      "execution_count": null,
      "outputs": []
    },
    {
      "cell_type": "code",
      "source": [
        "values"
      ],
      "metadata": {
        "id": "_zwX-taq-sda",
        "colab": {
          "base_uri": "https://localhost:8080/"
        },
        "outputId": "e6026c4e-8675-4099-82ad-41d260461855"
      },
      "execution_count": null,
      "outputs": [
        {
          "output_type": "execute_result",
          "data": {
            "text/plain": [
              "array([ 0.00925867, -0.00925867,  0.00925867, ..., -0.00925867,\n",
              "        0.00925867, -0.00925867])"
            ]
          },
          "metadata": {},
          "execution_count": 63
        }
      ]
    },
    {
      "cell_type": "code",
      "source": [
        "for i in range(len(descent_factors)):\n",
        "  weight_sample_space_matrix[i] =weight_array_with_reg+ values*descent_factors[i]"
      ],
      "metadata": {
        "id": "mhV9LyQf-uJu"
      },
      "execution_count": null,
      "outputs": []
    },
    {
      "cell_type": "code",
      "source": [
        "weight_sample_space_matrix"
      ],
      "metadata": {
        "id": "vPsKmhJ8-v8m",
        "colab": {
          "base_uri": "https://localhost:8080/"
        },
        "outputId": "44001f25-1c33-4da8-df76-91d28eb8ba71"
      },
      "execution_count": null,
      "outputs": [
        {
          "output_type": "execute_result",
          "data": {
            "text/plain": [
              "array([[-0.00092587,  0.03577048,  0.05094992, ...,  0.01023747,\n",
              "         0.01490655, -0.01477414],\n",
              "       [ 0.00092587,  0.03391875,  0.05280166, ...,  0.00838574,\n",
              "         0.01675828, -0.01662587],\n",
              "       [ 0.0027776 ,  0.03206701,  0.05465339, ...,  0.00653401,\n",
              "         0.01861002, -0.01847761],\n",
              "       ...,\n",
              "       [ 0.2731307 , -0.23828608,  0.32500649, ..., -0.26381909,\n",
              "         0.28896311, -0.2888307 ],\n",
              "       [ 0.27498243, -0.24013782,  0.32685822, ..., -0.26567082,\n",
              "         0.29081485, -0.29068244],\n",
              "       [ 0.27683416, -0.24198955,  0.32870995, ..., -0.26752256,\n",
              "         0.29266658, -0.29253417]])"
            ]
          },
          "metadata": {},
          "execution_count": 65
        }
      ]
    },
    {
      "cell_type": "code",
      "source": [
        "def validation_loss_computation(weight_and_reg_array):##function which computes the loss score of the model corresponding to given weights\n",
        "\n",
        "  model_demo = Sequential()\n",
        "  model_demo.add(Dense(units = 2, input_dim = 3072))\n",
        "  for i in range(number_of_layers):\n",
        "       model_demo.add(Dense(units = neurons_per_layer, activation = activation_function, kernel_regularizer = tf.keras.regularizers.L2(weight_and_reg_array[0])))\n",
        "  model_demo.add(Dense(units = 10,activation = \"softmax\", kernel_regularizer = tf.keras.regularizers.L2(weight_and_reg_array[0])))\n",
        "  model_demo.compile(loss = \"mean_squared_error\", optimizer = optimizer, metrics = [\"accuracy\"])\n",
        "  weight_tracker = 1##as \"weight_and_reg_array\" is a one dimensional array it keeps track of the indices of the array\n",
        "  for i in range(len(model_demo.layers)):##changing the weights of the model layer wise\n",
        "    orignal_weight_list = model.layers[i].weights\n",
        "    array_1 = orignal_weight_list[0].numpy()##array corresponding to the weight matrix\n",
        "    array_2 = orignal_weight_list[1].numpy()##array corresponding to the bias vector\n",
        "    array_1_new = weight_and_reg_array[weight_tracker:weight_tracker+array_1.shape[0]*array_1.shape[1]]\n",
        "    weight_tracker += array_1.shape[0]*array_1.shape[1]##updating the weight tracker\n",
        "    array_2_new = weight_and_reg_array[weight_tracker:weight_tracker + array_2.shape[0]]\n",
        "    weight_tracker += array_2.shape[0] #updating the weight tracker\n",
        "    array_1_new = array_1_new.reshape(array_1.shape) ##new weight matrix\n",
        "    array_2_new = array_2_new.reshape(array_2.shape) ##new bias vector\n",
        "    list_of_new_array = [] ##list of the new weight matrix and the new bias vector\n",
        "    list_of_new_array.append(array_1_new)\n",
        "    list_of_new_array.append(array_2_new)\n",
        "    model_demo.layers[i].set_weights(list_of_new_array) ##appending the new weights into the given layer of the model\n",
        "  y_pred_array = model_demo(np.array(x_eval),training = False)\n",
        "  y_pred_training = model_demo(np.array(x_train),training = False)\n",
        "  loss = loss_object(y_val_array,y_pred_array)\n",
        "  loss_t = loss_object(y_training,y_pred_training)\n",
        "  # loss1,_ = model_demo.evaluate(x_eval,y_eval,verbose= 0)\n",
        "  # loss2,_= model_demo.evaluate(x_train,y_train,verbose = 0)\n",
        "  return loss,loss_t,model_demo"
      ],
      "metadata": {
        "id": "T-9AbPYg-x61"
      },
      "execution_count": null,
      "outputs": []
    },
    {
      "cell_type": "code",
      "source": [
        "loss_array_valid = np.empty(shape = len(descent_factors),dtype = float)##array to contain the training losses\n",
        "loss_array_train = np.empty(shape = len(descent_factors),dtype = float)##array to contain the validation losses\n",
        "\n",
        "for i in range(len(loss_array_valid)):\n",
        "  loss_array_valid[i] ,loss_array_train[i],_= validation_loss_computation(weight_sample_space_matrix[i])\n"
      ],
      "metadata": {
        "id": "Qr6SqbnU-1_t"
      },
      "execution_count": null,
      "outputs": []
    },
    {
      "cell_type": "code",
      "source": [
        "y_pred_array = model(x_eval,training = True)"
      ],
      "metadata": {
        "id": "A1PvLzij-4I_"
      },
      "execution_count": null,
      "outputs": []
    },
    {
      "cell_type": "code",
      "source": [
        "loss_object(y_val_array,y_pred_array)"
      ],
      "metadata": {
        "id": "ArpBa1aT-6mp",
        "colab": {
          "base_uri": "https://localhost:8080/"
        },
        "outputId": "c1273777-ca5a-485a-fc3c-2b21aa9f7852"
      },
      "execution_count": null,
      "outputs": [
        {
          "output_type": "execute_result",
          "data": {
            "text/plain": [
              "<tf.Tensor: shape=(), dtype=float32, numpy=2.0507596>"
            ]
          },
          "metadata": {},
          "execution_count": 69
        }
      ]
    },
    {
      "cell_type": "code",
      "source": [
        "ideal_weight_array = weight_sample_space_matrix[loss_array_valid.argmin()]"
      ],
      "metadata": {
        "id": "Rss2Bbj0_ADH"
      },
      "execution_count": null,
      "outputs": []
    },
    {
      "cell_type": "code",
      "source": [
        "_,_,best_model = validation_loss_computation(ideal_weight_array)"
      ],
      "metadata": {
        "id": "KU2RH7Pv_Djr"
      },
      "execution_count": null,
      "outputs": []
    },
    {
      "cell_type": "code",
      "source": [
        "y_pred_testing = best_model(x_test,training = True)"
      ],
      "metadata": {
        "id": "wuWnECJZ_FgL"
      },
      "execution_count": null,
      "outputs": []
    },
    {
      "cell_type": "code",
      "source": [
        "y_testing = np.zeros(shape = (len(y_test),10))"
      ],
      "metadata": {
        "id": "5OXsFczG_JE0"
      },
      "execution_count": null,
      "outputs": []
    },
    {
      "cell_type": "code",
      "source": [
        "loss_array_valid.min()"
      ],
      "metadata": {
        "id": "HkTS4Ha0uwy3",
        "outputId": "551a5bef-546e-4227-c7ba-020bd77d1f0e",
        "colab": {
          "base_uri": "https://localhost:8080/"
        }
      },
      "execution_count": null,
      "outputs": [
        {
          "output_type": "execute_result",
          "data": {
            "text/plain": [
              "1.9735487699508667"
            ]
          },
          "metadata": {},
          "execution_count": 74
        }
      ]
    },
    {
      "cell_type": "code",
      "source": [
        "for i in range(len(y_test)):\n",
        "   for j in range(10):\n",
        "    if j != (y_test[i]):\n",
        "      y_testing[i][j] = 0.0\n",
        "    else:\n",
        "      y_testing[i][j] = 1.0"
      ],
      "metadata": {
        "id": "krLIVdnM_K21"
      },
      "execution_count": null,
      "outputs": []
    },
    {
      "cell_type": "code",
      "source": [
        "loss_object(y_testing,y_pred_testing)"
      ],
      "metadata": {
        "id": "V4hClLUb_MeR",
        "colab": {
          "base_uri": "https://localhost:8080/"
        },
        "outputId": "2945fdb2-b1e2-479c-adec-ce2889818ea7"
      },
      "execution_count": null,
      "outputs": [
        {
          "output_type": "execute_result",
          "data": {
            "text/plain": [
              "<tf.Tensor: shape=(), dtype=float32, numpy=2.0284164>"
            ]
          },
          "metadata": {},
          "execution_count": 76
        }
      ]
    },
    {
      "cell_type": "code",
      "source": [
        "y_pred_test = model(x_test,training = True)"
      ],
      "metadata": {
        "id": "CrL0aKv7_OsH"
      },
      "execution_count": null,
      "outputs": []
    },
    {
      "cell_type": "code",
      "source": [
        "loss_object(y_testing,y_pred_test)"
      ],
      "metadata": {
        "id": "1ojmaBR__Q3P",
        "colab": {
          "base_uri": "https://localhost:8080/"
        },
        "outputId": "7e2e88de-7a74-415e-bfeb-fd01819c3735"
      },
      "execution_count": null,
      "outputs": [
        {
          "output_type": "execute_result",
          "data": {
            "text/plain": [
              "<tf.Tensor: shape=(), dtype=float32, numpy=2.0609362>"
            ]
          },
          "metadata": {},
          "execution_count": 78
        }
      ]
    },
    {
      "cell_type": "code",
      "source": [
        "import pandas as pd"
      ],
      "metadata": {
        "id": "Ofs8SMcWqjxJ"
      },
      "execution_count": null,
      "outputs": []
    },
    {
      "cell_type": "code",
      "source": [
        "pd.DataFrame([loss_array_valid,descent_factors,loss_array_train]).transpose().to_csv(\"CIFAR(temp).csv\")"
      ],
      "metadata": {
        "id": "YCqIUGikqmVv"
      },
      "execution_count": null,
      "outputs": []
    },
    {
      "cell_type": "code",
      "source": [],
      "metadata": {
        "id": "hMRYSYe0uUeM"
      },
      "execution_count": null,
      "outputs": []
    }
  ]
}