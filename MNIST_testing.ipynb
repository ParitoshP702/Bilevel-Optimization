{
  "cells": [
    {
      "cell_type": "markdown",
      "metadata": {
        "id": "view-in-github",
        "colab_type": "text"
      },
      "source": [
        "<a href=\"https://colab.research.google.com/github/ParitoshP702/Bilevel-Optimization/blob/main/MNIST_testing.ipynb\" target=\"_parent\"><img src=\"https://colab.research.google.com/assets/colab-badge.svg\" alt=\"Open In Colab\"/></a>"
      ]
    },
    {
      "cell_type": "code",
      "execution_count": null,
      "metadata": {
        "id": "rq_yXtSkImfy"
      },
      "outputs": [],
      "source": [
        "import pandas as pd\n",
        "import numpy as np\n",
        "import random\n",
        "import tensorflow as tf\n",
        "import scipy as spy\n",
        "\n",
        "from operator import itemgetter\n",
        "\n",
        "from tqdm import tqdm\n",
        "\n",
        "from tensorflow.keras import layers\n",
        "from tensorflow.keras.models import Sequential\n",
        "from tensorflow.keras.layers import Dense\n",
        "from tensorflow.keras import regularizers\n",
        "\n",
        "from keras import backend as K"
      ]
    },
    {
      "cell_type": "code",
      "execution_count": null,
      "metadata": {
        "id": "nWh-ICFKJGa2"
      },
      "outputs": [],
      "source": [
        "(X_train,Y_train) , (X_test,Y_test) = tf.keras.datasets.mnist.load_data(path = \"mnist.npz\")"
      ]
    },
    {
      "cell_type": "code",
      "execution_count": null,
      "metadata": {
        "id": "6THgE4MoPtVo"
      },
      "outputs": [],
      "source": [
        "X_train = X_train/255.0\n",
        "X_test = X_test/255.0"
      ]
    },
    {
      "cell_type": "code",
      "execution_count": null,
      "metadata": {
        "id": "5uwrtXp8JbBM"
      },
      "outputs": [],
      "source": [
        "train_count = 5000\n",
        "eval_count = 2500"
      ]
    },
    {
      "cell_type": "code",
      "execution_count": null,
      "metadata": {
        "id": "tPJ_2d3iriHz"
      },
      "outputs": [],
      "source": [
        "X_test = X_test[:eval_count,:,:]"
      ]
    },
    {
      "cell_type": "code",
      "execution_count": null,
      "metadata": {
        "id": "BsVMGTE0rYL9"
      },
      "outputs": [],
      "source": [
        "x_test = X_test.reshape(X_test.shape[0],-1)"
      ]
    },
    {
      "cell_type": "code",
      "execution_count": null,
      "metadata": {
        "id": "hpqe8GEPr8c1"
      },
      "outputs": [],
      "source": [
        "y_test = Y_test[:eval_count]"
      ]
    },
    {
      "cell_type": "code",
      "execution_count": null,
      "metadata": {
        "colab": {
          "base_uri": "https://localhost:8080/"
        },
        "id": "zb1SeA4AKTxE",
        "outputId": "83461e47-642b-445e-94a7-b66f4e77058a"
      },
      "outputs": [
        {
          "output_type": "execute_result",
          "data": {
            "text/plain": [
              "(60000,)"
            ]
          },
          "metadata": {},
          "execution_count": 195
        }
      ],
      "source": [
        "Y_train.shape"
      ]
    },
    {
      "cell_type": "code",
      "execution_count": null,
      "metadata": {
        "id": "eSg6r3qAJc8F"
      },
      "outputs": [],
      "source": [
        "x_train = X_train[:train_count,:,:]\n",
        "x_eval = X_train[train_count:train_count+eval_count,:,:]\n",
        "y_train = Y_train[:train_count]\n",
        "y_eval = Y_train[train_count:train_count+eval_count]"
      ]
    },
    {
      "cell_type": "code",
      "execution_count": null,
      "metadata": {
        "id": "1s6SZqVWKQdt"
      },
      "outputs": [],
      "source": [
        "x_train = x_train.reshape(x_train.shape[0],-1)\n",
        "x_eval = x_eval.reshape(x_eval.shape[0],-1)"
      ]
    },
    {
      "cell_type": "code",
      "execution_count": null,
      "metadata": {
        "colab": {
          "base_uri": "https://localhost:8080/"
        },
        "id": "m_Zn9araKa-d",
        "outputId": "b9b3e567-e3a4-4152-f6ed-c50c990d6e6a"
      },
      "outputs": [
        {
          "output_type": "execute_result",
          "data": {
            "text/plain": [
              "(5000, 784)"
            ]
          },
          "metadata": {},
          "execution_count": 198
        }
      ],
      "source": [
        "x_train.shape"
      ]
    },
    {
      "cell_type": "code",
      "execution_count": null,
      "metadata": {
        "id": "7wwgfIrgQXpf"
      },
      "outputs": [],
      "source": [
        "y_training = np.zeros(shape = (len(y_train),10))"
      ]
    },
    {
      "cell_type": "code",
      "execution_count": null,
      "metadata": {
        "id": "pKEAB6kvQhwQ"
      },
      "outputs": [],
      "source": [
        "for i in range(len(y_train)):\n",
        "  # y_training[i][y_train_array[i]] = 1\n",
        "  for j in range(10):\n",
        "    if j != (y_train[i]):\n",
        "      y_training[i][j] = 0.0\n",
        "    else:\n",
        "      y_training[i][j] = 1.0"
      ]
    },
    {
      "cell_type": "code",
      "execution_count": null,
      "metadata": {
        "id": "O7livRvbRLDI"
      },
      "outputs": [],
      "source": [
        "y_val_training = np.empty(shape = (len(y_eval),10),dtype = float)"
      ]
    },
    {
      "cell_type": "code",
      "execution_count": null,
      "metadata": {
        "id": "mvKA84NdROll"
      },
      "outputs": [],
      "source": [
        "for i in range(len(y_eval)):\n",
        "   for j in range(10):\n",
        "    if j != (y_eval[i]):\n",
        "      y_val_training[i][j] = 0.0\n",
        "    else:\n",
        "      y_val_training[i][j] = 1.0"
      ]
    },
    {
      "cell_type": "code",
      "execution_count": null,
      "metadata": {
        "id": "h5UAWz-KL2Uy"
      },
      "outputs": [],
      "source": [
        "number_of_layers = 5\n",
        "neuron_per_layer = 50\n",
        "activation_function = \"sigmoid\"\n",
        "optimizer = \"Adam\""
      ]
    },
    {
      "cell_type": "code",
      "execution_count": null,
      "metadata": {
        "colab": {
          "base_uri": "https://localhost:8080/"
        },
        "id": "ThzVJpwDLwQI",
        "outputId": "ea8c7a3f-a824-466a-be91-5abbc1ec42fd"
      },
      "outputs": [
        {
          "output_type": "stream",
          "name": "stdout",
          "text": [
            "Epoch 1/10\n",
            "79/79 [==============================] - 1s 3ms/step - loss: 2.3106 - accuracy: 0.1058\n",
            "Epoch 2/10\n",
            "79/79 [==============================] - 0s 3ms/step - loss: 2.2806 - accuracy: 0.1472\n",
            "Epoch 3/10\n",
            "79/79 [==============================] - 0s 3ms/step - loss: 2.0031 - accuracy: 0.3062\n",
            "Epoch 4/10\n",
            "79/79 [==============================] - 0s 3ms/step - loss: 1.5946 - accuracy: 0.3462\n",
            "Epoch 5/10\n",
            "79/79 [==============================] - 0s 3ms/step - loss: 1.4137 - accuracy: 0.3906\n",
            "Epoch 6/10\n",
            "79/79 [==============================] - 0s 3ms/step - loss: 1.3338 - accuracy: 0.4080\n",
            "Epoch 7/10\n",
            "79/79 [==============================] - 0s 3ms/step - loss: 1.2826 - accuracy: 0.4430\n",
            "Epoch 8/10\n",
            "79/79 [==============================] - 0s 3ms/step - loss: 1.2418 - accuracy: 0.4810\n",
            "Epoch 9/10\n",
            "79/79 [==============================] - 0s 3ms/step - loss: 1.1956 - accuracy: 0.5234\n",
            "Epoch 10/10\n",
            "79/79 [==============================] - 0s 3ms/step - loss: 1.1438 - accuracy: 0.5734\n"
          ]
        }
      ],
      "source": [
        "model = Sequential()\n",
        "model.add(Dense(units=3, input_dim=784))\n",
        "\n",
        "for _ in range(number_of_layers):\n",
        "  model.add(Dense(units=neuron_per_layer, activation=activation_function, kernel_regularizer = tf.keras.regularizers.L2(1e-10)))\n",
        "model.add(Dense(units = 10,  activation = 'softmax', kernel_regularizer = tf.keras.regularizers.L2(1e-10)))\n",
        "\n",
        "model.compile(loss=tf.keras.losses.CategoricalCrossentropy(), optimizer=optimizer, metrics=['accuracy'])\n",
        "model.fit(x_train, y_training, batch_size = 64, epochs = 10)\n",
        "\n",
        "loss_score, accuracy_score = model.evaluate(x_eval,y_val_training, verbose = 0)"
      ]
    },
    {
      "cell_type": "code",
      "execution_count": null,
      "metadata": {
        "colab": {
          "base_uri": "https://localhost:8080/"
        },
        "id": "4peUYvQxNH2D",
        "outputId": "ca1eb2c1-1815-433f-aadd-cf01808c7b0e"
      },
      "outputs": [
        {
          "output_type": "execute_result",
          "data": {
            "text/plain": [
              "1.1546335220336914"
            ]
          },
          "metadata": {},
          "execution_count": 205
        }
      ],
      "source": [
        "loss_score"
      ]
    },
    {
      "cell_type": "code",
      "execution_count": null,
      "metadata": {
        "id": "igXm_e8hX0GW"
      },
      "outputs": [],
      "source": [
        "# y_p_training = model(x_train,training = True)"
      ]
    },
    {
      "cell_type": "code",
      "execution_count": null,
      "metadata": {
        "id": "7R1JVaKPX4IY"
      },
      "outputs": [],
      "source": [
        "# loss_object(y_p_training,y_training)"
      ]
    },
    {
      "cell_type": "code",
      "execution_count": null,
      "metadata": {
        "colab": {
          "base_uri": "https://localhost:8080/"
        },
        "id": "EfJhJTfKQoR8",
        "outputId": "0b284da2-a094-4a80-cdc3-3c9098f1012c"
      },
      "outputs": [
        {
          "output_type": "execute_result",
          "data": {
            "text/plain": [
              "array([[0., 0., 0., ..., 0., 0., 0.],\n",
              "       [1., 0., 0., ..., 0., 0., 0.],\n",
              "       [0., 0., 0., ..., 0., 0., 0.],\n",
              "       ...,\n",
              "       [0., 0., 1., ..., 0., 0., 0.],\n",
              "       [0., 1., 0., ..., 0., 0., 0.],\n",
              "       [0., 0., 1., ..., 0., 0., 0.]])"
            ]
          },
          "metadata": {},
          "execution_count": 208
        }
      ],
      "source": [
        "y_training"
      ]
    },
    {
      "cell_type": "code",
      "execution_count": null,
      "metadata": {
        "id": "RieZJNnpQpsf"
      },
      "outputs": [],
      "source": [
        "loss_object = tf.keras.losses.CategoricalCrossentropy()"
      ]
    },
    {
      "cell_type": "code",
      "execution_count": null,
      "metadata": {
        "id": "wy5Yji13jSJt"
      },
      "outputs": [],
      "source": [
        "skip_length = len(model.layers[0].weights[0].numpy().reshape(-1)) + len(model.layers[0].weights[1].numpy().reshape(-1))"
      ]
    },
    {
      "cell_type": "code",
      "execution_count": null,
      "metadata": {
        "id": "M5uESAPHQrgQ"
      },
      "outputs": [],
      "source": [
        "final_hessian_list = []"
      ]
    },
    {
      "cell_type": "code",
      "execution_count": null,
      "metadata": {
        "id": "JZUz1QfwQ5M8"
      },
      "outputs": [],
      "source": [
        "with tf.GradientTape(persistent = True) as tape1:\n",
        "  with tf.GradientTape(persistent = True) as tape2:\n",
        "    loss_object = tf.keras.losses.CategoricalCrossentropy()\n",
        "    y_pred_array = model(x_train,training = True)\n",
        "    loss = loss_object(y_training,y_pred_array)\n",
        "  g = tape2.gradient(loss, model.trainable_variables)\n",
        "for i in range(len(g)):\n",
        "  # reshaped_grad = tf.reshape(g[i], [-1])\n",
        "  h = tape1.jacobian(g[i],model.trainable_variables)\n",
        "  final_hessian_list.append(h)"
      ]
    },
    {
      "cell_type": "code",
      "execution_count": null,
      "metadata": {
        "id": "Gtm5t6rQRELu"
      },
      "outputs": [],
      "source": [
        "def compute_gradient(x_target,y_target,model):##general function which returns the list of gradient vector as an numpy array\n",
        "  with tf.GradientTape() as tape:\n",
        "    loss_object = tf.keras.losses.MeanSquaredError()\n",
        "    y_pred_array = model(x_target,training = True)\n",
        "    loss = loss_object(y_target,y_pred_array)\n",
        "  g = tape.gradient(loss,model.trainable_variables)\n",
        "  final_grad_list = []\n",
        "  for i in range(len(g)):\n",
        "    grad_array = tf.make_ndarray(tf.make_tensor_proto(g[i]))\n",
        "    if i%2==0:\n",
        "      grad_shape = grad_array.shape\n",
        "      for j in range(grad_shape[0]):\n",
        "        for k in range(grad_shape[1]):\n",
        "          final_grad_list.append(grad_array[j][k])\n",
        "    else:\n",
        "      length = grad_array.shape[0]\n",
        "      for j in range(length):\n",
        "        final_grad_list.append(grad_array[j])\n",
        "  return np.array(final_grad_list)\n"
      ]
    },
    {
      "cell_type": "code",
      "execution_count": null,
      "metadata": {
        "id": "8ziV7LRtRVdu"
      },
      "outputs": [],
      "source": [
        "grad_validation = compute_gradient(x_eval,y_val_training,model)"
      ]
    },
    {
      "cell_type": "code",
      "execution_count": null,
      "metadata": {
        "id": "xUoDXwyXRX_F"
      },
      "outputs": [],
      "source": [
        "#reshaping the double dimensional list of tensors into a matrix\n",
        "hessian_matrix = np.empty(shape = (1,1),dtype = float)\n",
        "for i in range(len(final_hessian_list)):\n",
        "  hess_col_mat = np.empty(shape = (1,1),dtype = float)\n",
        "  for j in range(len(final_hessian_list[i])):\n",
        "    hess_array = tf.make_ndarray(tf.make_tensor_proto(final_hessian_list[i][j]))\n",
        "    hess_shape = hess_array.shape\n",
        "    if i%2 == 0:\n",
        "       if j%2 == 0:\n",
        "         hess_array = hess_array.reshape(hess_shape[0]*hess_shape[1],hess_shape[2]*hess_shape[3])\n",
        "       else:\n",
        "         hess_array = hess_array.reshape(hess_shape[0]*hess_shape[1],hess_shape[2])\n",
        "    else:\n",
        "      if j%2 == 0:\n",
        "        hess_array = hess_array.reshape(hess_shape[0],hess_shape[1]*hess_shape[2])\n",
        "      else:\n",
        "        hess_array = hess_array\n",
        "    if j==0 :\n",
        "      hess_col_mat = hess_array\n",
        "    else:\n",
        "      hess_col_mat = np.concatenate((hess_col_mat,hess_array),axis = 1)\n",
        "  if i==0:\n",
        "    hessian_matrix = hess_col_mat\n",
        "  else:\n",
        "    hessian_matrix= np.concatenate((hessian_matrix,hess_col_mat),axis = 0)\n",
        "\n",
        ""
      ]
    },
    {
      "cell_type": "code",
      "execution_count": null,
      "metadata": {
        "colab": {
          "base_uri": "https://localhost:8080/"
        },
        "id": "RyVHEHq8Rdna",
        "outputId": "e03a7058-f512-4b4b-ac52-b55c2fcefd40"
      },
      "outputs": [
        {
          "output_type": "execute_result",
          "data": {
            "text/plain": [
              "array([[ 0.        ,  0.        ,  0.        , ...,  0.        ,\n",
              "         0.        ,  0.        ],\n",
              "       [ 0.        ,  0.        ,  0.        , ...,  0.        ,\n",
              "         0.        ,  0.        ],\n",
              "       [ 0.        ,  0.        ,  0.        , ...,  0.        ,\n",
              "         0.        ,  0.        ],\n",
              "       ...,\n",
              "       [ 0.        ,  0.        ,  0.        , ...,  0.07595121,\n",
              "        -0.00041618, -0.03217039],\n",
              "       [ 0.        ,  0.        ,  0.        , ..., -0.00041618,\n",
              "         0.06883408, -0.00046167],\n",
              "       [ 0.        ,  0.        ,  0.        , ..., -0.03217039,\n",
              "        -0.00046167,  0.07187487]], dtype=float32)"
            ]
          },
          "metadata": {},
          "execution_count": 216
        }
      ],
      "source": [
        "hessian_matrix"
      ]
    },
    {
      "cell_type": "code",
      "execution_count": null,
      "metadata": {
        "id": "P1GZAtC6RjyV"
      },
      "outputs": [],
      "source": [
        "weights_list = []\n",
        "weights_list_new = []"
      ]
    },
    {
      "cell_type": "code",
      "execution_count": null,
      "metadata": {
        "id": "i5FdKk1iRs6m"
      },
      "outputs": [],
      "source": [
        "for i in range(len(model.weights)):\n",
        "  weights_array = tf.make_ndarray(tf.make_tensor_proto(model.weights[i]))\n",
        "  if i%2 == 0:\n",
        "    shape_array = weights_array.shape\n",
        "    for j in range(shape_array[0]):\n",
        "      for k in range(shape_array[1]):\n",
        "        weights_list.append(weights_array[j][k])\n",
        "        if len(weights_list_new) < skip_length:\n",
        "          weights_list_new.append(0)\n",
        "        else:\n",
        "          weights_list_new.append(weights_array[j][k])\n",
        "  else:\n",
        "    lgt = weights_array.shape[0]\n",
        "    for j in range(lgt):\n",
        "      weights_list.append(weights_array[j])\n",
        "      if len(weights_list_new) < skip_length:\n",
        "        weights_list_new.append(0)\n",
        "      else:\n",
        "        weights_list_new.append(weights_array[j])"
      ]
    },
    {
      "cell_type": "code",
      "execution_count": null,
      "metadata": {
        "id": "qCggXOtPRurq"
      },
      "outputs": [],
      "source": [
        "final_weights_array = np.array(weights_list)\n",
        "final_weights_array_new = np.array(weights_list_new)"
      ]
    },
    {
      "cell_type": "code",
      "execution_count": null,
      "metadata": {
        "id": "vJQFADSPRxRp"
      },
      "outputs": [],
      "source": [
        "l = len(final_weights_array)"
      ]
    },
    {
      "cell_type": "code",
      "execution_count": null,
      "metadata": {
        "colab": {
          "base_uri": "https://localhost:8080/"
        },
        "id": "23KiDRnyRzYg",
        "outputId": "56f1d598-c7f1-448a-8abb-003072958067"
      },
      "outputs": [
        {
          "output_type": "execute_result",
          "data": {
            "text/plain": [
              "5315"
            ]
          },
          "metadata": {},
          "execution_count": 146
        }
      ],
      "source": [
        "l"
      ]
    },
    {
      "cell_type": "code",
      "execution_count": null,
      "metadata": {
        "id": "p7M7MGS3Rz7s"
      },
      "outputs": [],
      "source": [
        "weight_array_vec = final_weights_array_new.reshape(l,1)/len(y_train)"
      ]
    },
    {
      "cell_type": "code",
      "execution_count": null,
      "metadata": {
        "id": "riyq99FBR2Rs"
      },
      "outputs": [],
      "source": [
        "hessian_col_mat = np.concatenate((weight_array_vec,hessian_matrix),axis = 1)"
      ]
    },
    {
      "cell_type": "code",
      "execution_count": null,
      "metadata": {
        "id": "DCWBmwIOR6aE"
      },
      "outputs": [],
      "source": [
        "weight_array_withreg = np.concatenate(([[0]],final_weights_array_new.reshape(1,l)),axis = 1)/len(y_train)"
      ]
    },
    {
      "cell_type": "code",
      "execution_count": null,
      "metadata": {
        "id": "qHkK-OmuR-Ks"
      },
      "outputs": [],
      "source": [
        "hessian_mat_with_reg = np.concatenate((weight_array_withreg,hessian_col_mat),axis = 0)"
      ]
    },
    {
      "cell_type": "code",
      "execution_count": null,
      "metadata": {
        "colab": {
          "base_uri": "https://localhost:8080/"
        },
        "id": "5dPyGBLNSAgC",
        "outputId": "7e7eeff2-1d11-475c-b187-210925541d00"
      },
      "outputs": [
        {
          "output_type": "execute_result",
          "data": {
            "text/plain": [
              "array([[ 0.00000000e+00,  0.00000000e+00,  0.00000000e+00, ...,\n",
              "        -2.03743894e-06, -2.72571202e-06, -1.80651457e-07],\n",
              "       [ 0.00000000e+00,  0.00000000e+00,  0.00000000e+00, ...,\n",
              "         0.00000000e+00,  0.00000000e+00,  0.00000000e+00],\n",
              "       [ 0.00000000e+00,  0.00000000e+00,  0.00000000e+00, ...,\n",
              "         0.00000000e+00,  0.00000000e+00,  0.00000000e+00],\n",
              "       ...,\n",
              "       [-2.03743894e-06,  0.00000000e+00,  0.00000000e+00, ...,\n",
              "         8.88276994e-02, -2.74284626e-03, -1.96078978e-02],\n",
              "       [-2.72571202e-06,  0.00000000e+00,  0.00000000e+00, ...,\n",
              "        -2.74284626e-03,  7.95235187e-02, -2.37949542e-03],\n",
              "       [-1.80651457e-07,  0.00000000e+00,  0.00000000e+00, ...,\n",
              "        -1.96078978e-02, -2.37949542e-03,  8.23247358e-02]])"
            ]
          },
          "metadata": {},
          "execution_count": 151
        }
      ],
      "source": [
        "hessian_mat_with_reg"
      ]
    },
    {
      "cell_type": "code",
      "execution_count": null,
      "metadata": {
        "id": "WI-3IeTCSCjY"
      },
      "outputs": [],
      "source": [
        "grad_validation_new=[]"
      ]
    },
    {
      "cell_type": "code",
      "execution_count": null,
      "metadata": {
        "id": "0lC2899tSJvu"
      },
      "outputs": [],
      "source": [
        "grad_validation_new = np.concatenate(([[0]],grad_validation.reshape(1,l)),axis = 1)"
      ]
    },
    {
      "cell_type": "code",
      "execution_count": null,
      "metadata": {
        "id": "ETANg1TTSL88"
      },
      "outputs": [],
      "source": [
        "##obtaining the new gradient array\n",
        "grad_validation_new = grad_validation_new.reshape(-1)"
      ]
    },
    {
      "cell_type": "code",
      "execution_count": null,
      "metadata": {
        "colab": {
          "base_uri": "https://localhost:8080/"
        },
        "id": "LljSUTcuSN-e",
        "outputId": "ae91102a-c9c6-4e8d-c44f-982e788097b0"
      },
      "outputs": [
        {
          "output_type": "execute_result",
          "data": {
            "text/plain": [
              "array([ 0.07031602,  0.02224601,  0.01752656, ..., -0.01018719,\n",
              "       -0.01362856, -0.00090326], dtype=float32)"
            ]
          },
          "metadata": {},
          "execution_count": 155
        }
      ],
      "source": [
        "final_weights_array"
      ]
    },
    {
      "cell_type": "code",
      "execution_count": null,
      "metadata": {
        "colab": {
          "base_uri": "https://localhost:8080/"
        },
        "id": "nOWGxMmNH22h",
        "outputId": "8ae5d7f8-aeda-4fc0-d32f-dd4601478c5f"
      },
      "outputs": [
        {
          "output_type": "execute_result",
          "data": {
            "text/plain": [
              "array([ 0.07031602,  0.02224601,  0.01752656, ..., -0.01018719,\n",
              "       -0.01362856, -0.00090326], dtype=float32)"
            ]
          },
          "metadata": {},
          "execution_count": 156
        }
      ],
      "source": [
        "final_weights_array"
      ]
    },
    {
      "cell_type": "code",
      "execution_count": null,
      "metadata": {
        "id": "VV9kae0RSSS0"
      },
      "outputs": [],
      "source": [
        "ub = [10 for i in range(l+1)]"
      ]
    },
    {
      "cell_type": "code",
      "execution_count": null,
      "metadata": {
        "id": "HglQeef6Sbp-"
      },
      "outputs": [],
      "source": [
        "lb = []\n",
        "for i in range(l+1):\n",
        "  if i==0:\n",
        "    lb.append(1e-5)\n",
        "  else:\n",
        "    lb.append(-10)"
      ]
    },
    {
      "cell_type": "code",
      "execution_count": null,
      "metadata": {
        "colab": {
          "base_uri": "https://localhost:8080/"
        },
        "id": "AclA-O6vSd8M",
        "outputId": "49bd8aa9-72e8-455c-a39d-f3db2bd21d5b"
      },
      "outputs": [
        {
          "output_type": "stream",
          "name": "stdout",
          "text": [
            "Looking in indexes: https://pypi.org/simple, https://us-python.pkg.dev/colab-wheels/public/simple/\n",
            "Requirement already satisfied: gurobipy in /usr/local/lib/python3.8/dist-packages (10.0.0)\n"
          ]
        }
      ],
      "source": [
        "pip install gurobipy"
      ]
    },
    {
      "cell_type": "code",
      "execution_count": null,
      "metadata": {
        "id": "4Br6KLBySg1S"
      },
      "outputs": [],
      "source": [
        "import gurobipy as gp"
      ]
    },
    {
      "cell_type": "code",
      "execution_count": null,
      "metadata": {
        "colab": {
          "base_uri": "https://localhost:8080/"
        },
        "id": "clyvczRcFqQe",
        "outputId": "c690737a-adb1-4126-ecdf-831137229e32"
      },
      "outputs": [
        {
          "output_type": "execute_result",
          "data": {
            "text/plain": [
              "4921"
            ]
          },
          "metadata": {},
          "execution_count": 161
        }
      ],
      "source": [
        "np.linalg.matrix_rank(hessian_mat_with_reg)"
      ]
    },
    {
      "cell_type": "code",
      "execution_count": null,
      "metadata": {
        "id": "qb_EgeWxSj5-"
      },
      "outputs": [],
      "source": [
        "from gurobipy import *"
      ]
    },
    {
      "cell_type": "code",
      "execution_count": null,
      "metadata": {
        "colab": {
          "base_uri": "https://localhost:8080/"
        },
        "id": "FWyjigCWSmUR",
        "outputId": "3a5f93f6-b085-4905-8ead-1d26552cd0b1"
      },
      "outputs": [
        {
          "output_type": "stream",
          "name": "stdout",
          "text": [
            "Set parameter WLSAccessID\n",
            "Set parameter WLSSecret\n",
            "Set parameter LicenseID to value 914249\n",
            "Academic license - for non-commercial use only - registered to ppankaj21@iitk.ac.in\n"
          ]
        }
      ],
      "source": [
        "params = {\n",
        "\"WLSACCESSID\": '753e7886-7142-449d-8baa-d41ca78716ef',\n",
        "\"WLSSECRET\": '880d2525-364b-41d0-ac23-6dcf7ad15312',\n",
        "\"LICENSEID\": 914249,\n",
        "}\n",
        "env = gp.Env(params=params)\n",
        "\n",
        "# Create the model within the Gurobi environment\n",
        "m = gp.Model(env=env)"
      ]
    },
    {
      "cell_type": "code",
      "execution_count": null,
      "metadata": {
        "colab": {
          "base_uri": "https://localhost:8080/"
        },
        "id": "iXGvaP_SSofp",
        "outputId": "5ebc7945-20b1-42ab-8c6a-5359b6834242"
      },
      "outputs": [
        {
          "output_type": "stream",
          "name": "stdout",
          "text": [
            "Warning for adding constraints: zero or small (< 1e-13) coefficients, ignored\n",
            "Warning on update mode = 1 after new variables or constraints added:\n",
            "Setting LP warm start basis or start ignored\n",
            "Gurobi Optimizer version 10.0.0 build v10.0.0rc2 (linux64)\n",
            "\n",
            "CPU model: Intel(R) Xeon(R) CPU @ 2.20GHz, instruction set [SSE2|AVX|AVX2|AVX512]\n",
            "Thread count: 6 physical cores, 12 logical processors, using up to 12 threads\n",
            "\n",
            "Academic license - for non-commercial use only - registered to ppankaj21@iitk.ac.in\n",
            "Optimize a model with 10632 rows, 5316 columns and 47009426 nonzeros\n",
            "Model fingerprint: 0xd443a9a7\n",
            "Coefficient statistics:\n",
            "  Matrix range     [1e-13, 9e-02]\n",
            "  Objective range  [2e-11, 5e-04]\n",
            "  Bounds range     [1e-05, 1e+01]\n",
            "  RHS range        [1e-01, 1e-01]\n",
            "Presolve removed 1400 rows and 377 columns (presolve time = 7s) ...\n",
            "Presolve removed 1400 rows and 377 columns (presolve time = 14s) ...\n",
            "Presolve removed 1400 rows and 377 columns (presolve time = 21s) ...\n",
            "Presolve removed 6016 rows and 377 columns\n",
            "Presolve time: 25.20s\n",
            "Presolved: 4616 rows, 9555 columns, 22197392 nonzeros\n",
            "\n",
            "Concurrent LP optimizer: primal simplex, dual simplex, and barrier\n",
            "Showing barrier log only...\n",
            "\n",
            "Ordering time: 0.12s\n",
            "\n",
            "Barrier statistics:\n",
            " AA' NZ     : 1.065e+07\n",
            " Factor NZ  : 1.066e+07 (roughly 100 MB of memory)\n",
            " Factor Ops : 3.280e+10 (roughly 4 seconds per iteration)\n",
            " Threads    : 4\n",
            "\n",
            "                  Objective                Residual\n",
            "Iter       Primal          Dual         Primal    Dual     Compl     Time\n",
            "   0  -1.30483754e-03 -3.87460909e+03  2.72e+01 1.42e-14  1.37e+01    36s\n",
            "   1  -1.09153951e-02 -5.88160278e+02  4.57e-01 9.95e-14  1.03e+00    43s\n",
            "   2  -2.07926238e-03 -5.27664519e+00  8.93e-04 5.68e-14  8.84e-03    50s\n",
            "\n",
            "Barrier performed 2 iterations in 55.38 seconds (85.71 work units)\n",
            "Barrier solve interrupted - model solved by another algorithm\n",
            "\n",
            "\n",
            "Solved with dual simplex\n",
            "Extra simplex iterations after uncrush: 6\n",
            "Iteration    Objective       Primal Inf.    Dual Inf.      Time\n",
            "    2542   -2.5828603e-01   0.000000e+00   0.000000e+00     60s\n",
            "\n",
            "Solved in 2542 iterations and 59.51 seconds (52.84 work units)\n",
            "Optimal objective -2.582860300e-01\n"
          ]
        }
      ],
      "source": [
        "# m = gp.Model()\n",
        "x = m.addMVar((l+1,),lb = lb, ub = ub )\n",
        "m.setObjective(grad_validation_new@x)\n",
        "# m.addConstr(hessian_mat_with_reg@x == 0)\n",
        "m.addConstr(hessian_mat_with_reg@x <= 0.1)\n",
        "m.addConstr(hessian_mat_with_reg@x >= -0.1)\n",
        "x.PStart = np.zeros(l+1)\n",
        "# GRBModel.Set(Pstart = np.zeros(l+1))\n",
        "m.optimize()"
      ]
    },
    {
      "cell_type": "code",
      "execution_count": null,
      "metadata": {
        "colab": {
          "base_uri": "https://localhost:8080/"
        },
        "id": "Z-dT_a6cSrSg",
        "outputId": "eef1cc4c-a34a-43a5-ba21-35674f15febe"
      },
      "outputs": [
        {
          "output_type": "execute_result",
          "data": {
            "text/plain": [
              "<MVar (5316,)>\n",
              "array([<gurobi.Var C0 (value 10.0)>, <gurobi.Var C1 (value -10.0)>,\n",
              "       <gurobi.Var C2 (value -10.0)>, ...,\n",
              "       <gurobi.Var C5313 (value -10.0)>, <gurobi.Var C5314 (value 10.0)>,\n",
              "       <gurobi.Var C5315 (value -10.0)>])"
            ]
          },
          "metadata": {},
          "execution_count": 165
        }
      ],
      "source": [
        "x"
      ]
    },
    {
      "cell_type": "code",
      "execution_count": null,
      "metadata": {
        "id": "d819S3iESt_S"
      },
      "outputs": [],
      "source": [
        "weight_array_with_reg = np.concatenate(([[1e-10]],final_weights_array.reshape(1,l)),axis = 1).reshape(-1)"
      ]
    },
    {
      "cell_type": "code",
      "execution_count": null,
      "metadata": {
        "colab": {
          "base_uri": "https://localhost:8080/"
        },
        "id": "Zj7UvfnpTl_s",
        "outputId": "10fcfdcb-9044-43c8-feef-1744480cacc0"
      },
      "outputs": [
        {
          "output_type": "execute_result",
          "data": {
            "text/plain": [
              "array([ 1.00000000e-10,  7.03160241e-02,  2.22460106e-02, ...,\n",
              "       -1.01871947e-02, -1.36285601e-02, -9.03257285e-04])"
            ]
          },
          "metadata": {},
          "execution_count": 167
        }
      ],
      "source": [
        "weight_array_with_reg"
      ]
    },
    {
      "cell_type": "code",
      "execution_count": null,
      "metadata": {
        "id": "_mRAE123Tn6k"
      },
      "outputs": [],
      "source": [
        "descent_factors = []\n",
        "for i in range(-100,20000,200):\n",
        "  descent_factors.append(i*1e-3)\n",
        "descent_factors = np.array(descent_factors)"
      ]
    },
    {
      "cell_type": "code",
      "execution_count": null,
      "metadata": {
        "id": "tGaSc_rUTvlm"
      },
      "outputs": [],
      "source": [
        "weight_sample_space_matrix = np.empty(shape = (len(descent_factors),len(weight_array_with_reg)),dtype = float)"
      ]
    },
    {
      "cell_type": "code",
      "execution_count": null,
      "metadata": {
        "colab": {
          "base_uri": "https://localhost:8080/"
        },
        "id": "01-dn6FsT2iP",
        "outputId": "87228f10-7a6c-4a71-f9f7-f0d559b32619"
      },
      "outputs": [
        {
          "output_type": "execute_result",
          "data": {
            "text/plain": [
              "<MVar (5316,)>\n",
              "array([<gurobi.Var C0 (value 10.0)>, <gurobi.Var C1 (value -10.0)>,\n",
              "       <gurobi.Var C2 (value -10.0)>, ...,\n",
              "       <gurobi.Var C5313 (value -10.0)>, <gurobi.Var C5314 (value 10.0)>,\n",
              "       <gurobi.Var C5315 (value -10.0)>])"
            ]
          },
          "metadata": {},
          "execution_count": 170
        }
      ],
      "source": [
        "x"
      ]
    },
    {
      "cell_type": "code",
      "execution_count": null,
      "metadata": {
        "colab": {
          "base_uri": "https://localhost:8080/"
        },
        "id": "NHGMWmADEqkx",
        "outputId": "8eebafbf-fc22-491e-e251-d41aa253368c"
      },
      "outputs": [
        {
          "output_type": "execute_result",
          "data": {
            "text/plain": [
              "array([ 0.07031602,  0.02224601,  0.01752656, ..., -0.01018719,\n",
              "       -0.01362856, -0.00090326], dtype=float32)"
            ]
          },
          "metadata": {},
          "execution_count": 171
        }
      ],
      "source": [
        "final_weights_array"
      ]
    },
    {
      "cell_type": "code",
      "execution_count": null,
      "metadata": {
        "id": "sH7vUAxQUWKB"
      },
      "outputs": [],
      "source": [
        "all_vars = m.getVars()\n",
        "values = m.getAttr(\"x\",all_vars)"
      ]
    },
    {
      "cell_type": "code",
      "execution_count": null,
      "metadata": {
        "id": "sc5WIOn9Ux3O"
      },
      "outputs": [],
      "source": [
        "values = np.array(values)"
      ]
    },
    {
      "cell_type": "code",
      "execution_count": null,
      "metadata": {
        "id": "ICzgvC_GU99-"
      },
      "outputs": [],
      "source": [
        "values = values/np.linalg.norm(values)"
      ]
    },
    {
      "cell_type": "code",
      "execution_count": null,
      "metadata": {
        "colab": {
          "base_uri": "https://localhost:8080/"
        },
        "id": "DVscOexFmwXi",
        "outputId": "20f7386d-5c3c-4085-d256-3d681ad43d29"
      },
      "outputs": [
        {
          "output_type": "execute_result",
          "data": {
            "text/plain": [
              "array([ 0.01392511, -0.01392511, -0.01392511, ..., -0.01392511,\n",
              "        0.01392511, -0.01392511])"
            ]
          },
          "metadata": {},
          "execution_count": 175
        }
      ],
      "source": [
        "values"
      ]
    },
    {
      "cell_type": "code",
      "execution_count": null,
      "metadata": {
        "id": "kYPi101eTxwa"
      },
      "outputs": [],
      "source": [
        "for i in range(len(descent_factors)):\n",
        "  weight_sample_space_matrix[i] =weight_array_with_reg+ values*descent_factors[i]"
      ]
    },
    {
      "cell_type": "code",
      "execution_count": null,
      "metadata": {
        "colab": {
          "base_uri": "https://localhost:8080/"
        },
        "id": "ZQr4yraZTzzw",
        "outputId": "baacb272-7b73-41fd-ce91-7aa469480eed"
      },
      "outputs": [
        {
          "output_type": "execute_result",
          "data": {
            "text/plain": [
              "array([[-0.00139251,  0.07170853,  0.02363852, ..., -0.00879468,\n",
              "        -0.01502107,  0.00048925],\n",
              "       [ 0.00139251,  0.06892351,  0.0208535 , ..., -0.01157971,\n",
              "        -0.01223605, -0.00229577],\n",
              "       [ 0.00417753,  0.06613849,  0.01806848, ..., -0.01436473,\n",
              "        -0.00945103, -0.00508079],\n",
              "       ...,\n",
              "       [ 0.27153958, -0.20122355, -0.24929357, ..., -0.28172677,\n",
              "         0.25791102, -0.27244283],\n",
              "       [ 0.2743246 , -0.20400857, -0.25207859, ..., -0.28451179,\n",
              "         0.26069604, -0.27522786],\n",
              "       [ 0.27710962, -0.2067936 , -0.25486361, ..., -0.28729681,\n",
              "         0.26348106, -0.27801288]])"
            ]
          },
          "metadata": {},
          "execution_count": 177
        }
      ],
      "source": [
        "weight_sample_space_matrix"
      ]
    },
    {
      "cell_type": "code",
      "execution_count": null,
      "metadata": {
        "id": "odZMMGWXVFu_"
      },
      "outputs": [],
      "source": [
        "def validation_loss_computation(weight_and_reg_array):##function which computes the loss score of the model corresponding to given weights\n",
        "\n",
        "  model_demo = Sequential()\n",
        "  model_demo.add(Dense(units = 3, input_dim = 784))\n",
        "  for i in range(number_of_layers):\n",
        "       model_demo.add(Dense(units = neuron_per_layer, activation = activation_function, kernel_regularizer = tf.keras.regularizers.L2(weight_and_reg_array[0])))\n",
        "  model_demo.add(Dense(units = 10,activation = \"softmax\", kernel_regularizer = tf.keras.regularizers.L2(weight_and_reg_array[0])))\n",
        "  model_demo.compile(loss = \"mean_squared_error\", optimizer = optimizer, metrics = [\"accuracy\"])\n",
        "  weight_tracker = 1##as \"weight_and_reg_array\" is a one dimensional array it keeps track of the indices of the array\n",
        "  for i in range(len(model_demo.layers)):##changing the weights of the model layer wise\n",
        "    orignal_weight_list = model.layers[i].weights\n",
        "    array_1 = orignal_weight_list[0].numpy()##array corresponding to the weight matrix\n",
        "    array_2 = orignal_weight_list[1].numpy()##array corresponding to the bias vector\n",
        "    array_1_new = weight_and_reg_array[weight_tracker:weight_tracker+array_1.shape[0]*array_1.shape[1]]\n",
        "    weight_tracker += array_1.shape[0]*array_1.shape[1]##updating the weight tracker\n",
        "    array_2_new = weight_and_reg_array[weight_tracker:weight_tracker + array_2.shape[0]]\n",
        "    weight_tracker += array_2.shape[0] #updating the weight tracker\n",
        "    array_1_new = array_1_new.reshape(array_1.shape) ##new weight matrix\n",
        "    array_2_new = array_2_new.reshape(array_2.shape) ##new bias vector\n",
        "    list_of_new_array = [] ##list of the new weight matrix and the new bias vector\n",
        "    list_of_new_array.append(array_1_new)\n",
        "    list_of_new_array.append(array_2_new)\n",
        "    model_demo.layers[i].set_weights(list_of_new_array) ##appending the new weights into the given layer of the model\n",
        "  y_pred_array = model_demo(np.array(x_eval),training = False)\n",
        "  y_pred_training = model_demo(np.array(x_train),training = False)\n",
        "  loss = loss_object(y_val_training,y_pred_array)\n",
        "  loss_t = loss_object(y_training,y_pred_training)\n",
        "  # loss1,_ = model_demo.evaluate(x_eval,y_eval,verbose= 0)\n",
        "  # loss2,_= model_demo.evaluate(x_train,y_train,verbose = 0)\n",
        "  return loss,loss_t,model_demo"
      ]
    },
    {
      "cell_type": "code",
      "execution_count": null,
      "metadata": {
        "id": "D1VE7FaPVMrn"
      },
      "outputs": [],
      "source": [
        "loss_array_valid = np.empty(shape = len(descent_factors),dtype = float)##array to contain the training losses\n",
        "loss_array_train = np.empty(shape = len(descent_factors),dtype = float)##array to contain the validation losses\n",
        "\n",
        "for i in range(len(loss_array_valid)):\n",
        "  loss_array_valid[i] ,loss_array_train[i],_= validation_loss_computation(weight_sample_space_matrix[i])\n"
      ]
    },
    {
      "cell_type": "code",
      "execution_count": null,
      "metadata": {
        "colab": {
          "base_uri": "https://localhost:8080/"
        },
        "id": "IP039a3PVtOb",
        "outputId": "7df047c0-525a-4d62-d0a2-2b4ad0737469"
      },
      "outputs": [
        {
          "output_type": "execute_result",
          "data": {
            "text/plain": [
              "1.7380784749984741"
            ]
          },
          "metadata": {},
          "execution_count": 182
        }
      ],
      "source": [
        "loss_array_valid.min()"
      ]
    },
    {
      "cell_type": "code",
      "execution_count": null,
      "metadata": {
        "colab": {
          "base_uri": "https://localhost:8080/"
        },
        "id": "zBf5oqlTVRAE",
        "outputId": "2205c524-7576-4c25-fcdc-79d3ebd21c26"
      },
      "outputs": [
        {
          "output_type": "execute_result",
          "data": {
            "text/plain": [
              "1.73578941822052"
            ]
          },
          "metadata": {},
          "execution_count": 183
        }
      ],
      "source": [
        "loss_array_train.min()"
      ]
    },
    {
      "cell_type": "code",
      "execution_count": null,
      "metadata": {
        "id": "1jAWR5HHVe-n"
      },
      "outputs": [],
      "source": [
        "y_pred_array = model(x_eval,training = True)"
      ]
    },
    {
      "cell_type": "code",
      "execution_count": null,
      "metadata": {
        "colab": {
          "base_uri": "https://localhost:8080/"
        },
        "id": "npkkk7A4Vo8B",
        "outputId": "6acd8471-7c49-488d-bcdd-5a0fc04a7291"
      },
      "outputs": [
        {
          "output_type": "execute_result",
          "data": {
            "text/plain": [
              "<tf.Tensor: shape=(), dtype=float32, numpy=1.7885053>"
            ]
          },
          "metadata": {},
          "execution_count": 185
        }
      ],
      "source": [
        "loss_object(y_val_training,y_pred_array)"
      ]
    },
    {
      "cell_type": "code",
      "execution_count": null,
      "metadata": {
        "colab": {
          "base_uri": "https://localhost:8080/"
        },
        "id": "BuUXjR0SncLm",
        "outputId": "981ef266-0cd9-4501-92b6-d39714c867bc"
      },
      "outputs": [
        {
          "output_type": "execute_result",
          "data": {
            "text/plain": [
              "24"
            ]
          },
          "metadata": {},
          "execution_count": 186
        }
      ],
      "source": [
        "loss_array_valid.argmin()"
      ]
    },
    {
      "cell_type": "code",
      "execution_count": null,
      "metadata": {
        "colab": {
          "base_uri": "https://localhost:8080/"
        },
        "id": "wt9RvZ-GVrBb",
        "outputId": "a93c251f-9b14-4768-936c-322eaa21c997"
      },
      "outputs": [
        {
          "output_type": "execute_result",
          "data": {
            "text/plain": [
              "4.7"
            ]
          },
          "metadata": {},
          "execution_count": 187
        }
      ],
      "source": [
        "descent_factors[loss_array_valid.argmin()]"
      ]
    },
    {
      "cell_type": "code",
      "execution_count": null,
      "metadata": {
        "id": "FN6SpLEJNppE"
      },
      "outputs": [],
      "source": [
        "descent_factors[loss_array_train.argmin()]"
      ]
    },
    {
      "cell_type": "code",
      "execution_count": null,
      "metadata": {
        "id": "ZH2hdP8VVzON"
      },
      "outputs": [],
      "source": [
        "pd.DataFrame([loss_array_valid,descent_factors,loss_array_train]).transpose().to_csv('temp(MNIST_new).csv')"
      ]
    },
    {
      "cell_type": "code",
      "execution_count": null,
      "metadata": {
        "id": "GZdkbtROV8yj"
      },
      "outputs": [],
      "source": [
        "len(descent_factors)"
      ]
    },
    {
      "cell_type": "code",
      "execution_count": null,
      "metadata": {
        "id": "MmLyoMyhqUHn"
      },
      "outputs": [],
      "source": [
        "loss_array_train.argmin()"
      ]
    },
    {
      "cell_type": "code",
      "execution_count": null,
      "metadata": {
        "id": "SgkMmbiUpWhi"
      },
      "outputs": [],
      "source": [
        "ideal_weight_array = weight_sample_space_matrix[loss_array_valid.argmin()]"
      ]
    },
    {
      "cell_type": "markdown",
      "metadata": {
        "id": "91ej2hWVqH9U"
      },
      "source": [
        "#Best weights result on the testing dataset"
      ]
    },
    {
      "cell_type": "code",
      "execution_count": null,
      "metadata": {
        "id": "saSPeUZGqjMW"
      },
      "outputs": [],
      "source": [
        "_,_,best_model = validation_loss_computation(ideal_weight_array)"
      ]
    },
    {
      "cell_type": "code",
      "execution_count": null,
      "metadata": {
        "id": "MgOaRIE_rEUz"
      },
      "outputs": [],
      "source": [
        "y_pred_testing = best_model(x_test,training = True)"
      ]
    },
    {
      "cell_type": "code",
      "execution_count": null,
      "metadata": {
        "id": "idWxWNOVrIns"
      },
      "outputs": [],
      "source": [
        "y_testing = np.zeros(shape = (len(y_test),10))"
      ]
    },
    {
      "cell_type": "code",
      "execution_count": null,
      "metadata": {
        "id": "Kbq7m28WsEEL"
      },
      "outputs": [],
      "source": [
        "for i in range(len(y_test)):\n",
        "   for j in range(10):\n",
        "    if j != (y_test[i]):\n",
        "      y_testing[i][j] = 0.0\n",
        "    else:\n",
        "      y_testing[i][j] = 1.0"
      ]
    },
    {
      "cell_type": "code",
      "execution_count": null,
      "metadata": {
        "id": "wbZJsv_DsNdb"
      },
      "outputs": [],
      "source": [
        "loss_object(y_testing,y_pred_testing)"
      ]
    },
    {
      "cell_type": "code",
      "execution_count": null,
      "metadata": {
        "id": "YLeW1wcnsTNN"
      },
      "outputs": [],
      "source": [
        "y_pred_test = model(x_test,training = True)"
      ]
    },
    {
      "cell_type": "code",
      "execution_count": null,
      "metadata": {
        "id": "3XKgrWzQsaaH"
      },
      "outputs": [],
      "source": [
        "loss_object(y_testing,y_pred_test)"
      ]
    },
    {
      "cell_type": "code",
      "execution_count": null,
      "metadata": {
        "id": "DT04cks8sdpl"
      },
      "outputs": [],
      "source": [
        "loss_object"
      ]
    },
    {
      "cell_type": "code",
      "execution_count": null,
      "metadata": {
        "id": "XdLHMwx3HEAA"
      },
      "outputs": [],
      "source": []
    }
  ],
  "metadata": {
    "colab": {
      "machine_shape": "hm",
      "provenance": [],
      "gpuClass": "premium",
      "include_colab_link": true
    },
    "gpuClass": "premium",
    "kernelspec": {
      "display_name": "Python 3",
      "name": "python3"
    },
    "language_info": {
      "name": "python"
    },
    "accelerator": "GPU"
  },
  "nbformat": 4,
  "nbformat_minor": 0
}